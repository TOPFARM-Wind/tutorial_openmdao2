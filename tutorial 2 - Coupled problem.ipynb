{
 "cells": [
  {
   "cell_type": "code",
   "execution_count": 22,
   "metadata": {},
   "outputs": [],
   "source": [
    "from openmdao.api import Problem, ScipyOptimizeDriver, ExecComp, IndepVarComp, ExplicitComponent, Group, NonlinearBlockGS\n",
    "import numpy as np"
   ]
  },
  {
   "cell_type": "markdown",
   "metadata": {},
   "source": [
    "In previous tutorials, you built and optimized models comprised of only a single component. Now, we’ll work through a slightly more complex problem that involves two disciplines and hence two main components. You’ll learn how to group components together into a larger model and how to use different kinds of nonlinear solvers to converge multidisciplinary models with coupling between components.\n",
    "\n",
    "### Sellar - A Simple Two-Discipline Problem\n",
    "The Sellar problem is a simple two discipline toy problem with each discipline described by a single equation. The output of each component feeds into the input of the other, which creates a coupled model that needs to be converged in order for the outputs to be valid. You can see the coupling between the two disciplines show up through the $y_1$ and $y_2$ variables in the XDSM diagram describing the problem structure below:\n",
    "\n",
    "<img src=\"http://openmdao.org/twodocs/versions/2.0.0/_images/sellar_xdsm.png\" width=\"600\">"
   ]
  },
  {
   "cell_type": "markdown",
   "metadata": {},
   "source": [
    "### Building the Disciplinary Components\n",
    "In the component definitions, there is a call to declare_partials in the setup method that looks like this:\n",
    "```python\n",
    "self.declare_partials('*', '*', method='fd')\n",
    "```\n",
    "This tells OpenMDAO to approximate all the partial derivatives of that component using finite-difference. The default settings will use forward difference with an absolute step size of 1e-6, but you can change the FD settings to work well for your component."
   ]
  },
  {
   "cell_type": "code",
   "execution_count": 23,
   "metadata": {},
   "outputs": [],
   "source": [
    "class SellarDis1(ExplicitComponent):\n",
    "    \n",
    "\n",
    "    def setup(self):\n",
    "\n",
    "        # Global Design Variable\n",
    "        self.add_input('z', val=np.zeros(2))\n",
    "\n",
    "        # Local Design Variable\n",
    "        self.add_input('x', val=0.)\n",
    "\n",
    "        # Coupling parameter\n",
    "        self.add_input('y2', val=1.0)\n",
    "\n",
    "        # Coupling output\n",
    "        self.add_output('y1', val=1.0)\n",
    "\n",
    "        # Finite difference all partials.\n",
    "        self.declare_partials('*', '*', method='fd')\n",
    "\n",
    "    def compute(self, inputs, outputs):\n",
    "        \n",
    "        z1 = inputs['z'][0]\n",
    "        z2 = inputs['z'][1]\n",
    "        x1 = inputs['x']\n",
    "        y2 = inputs['y2']\n",
    "\n",
    "        outputs['y1'] = z1**2 + z2 + x1 - 0.2*y2"
   ]
  },
  {
   "cell_type": "code",
   "execution_count": 24,
   "metadata": {},
   "outputs": [],
   "source": [
    "class SellarDis2(ExplicitComponent):\n",
    "    \n",
    "\n",
    "    def setup(self):\n",
    "        # Global Design Variable\n",
    "        self.add_input('z', val=np.zeros(2))\n",
    "\n",
    "        # Coupling parameter\n",
    "        self.add_input('y1', val=1.0)\n",
    "\n",
    "        # Coupling output\n",
    "        self.add_output('y2', val=1.0)\n",
    "\n",
    "        # Finite difference all partials.\n",
    "        self.declare_partials('*', '*', method='fd')\n",
    "\n",
    "    def compute(self, inputs, outputs):\n",
    "        \n",
    "\n",
    "        z1 = inputs['z'][0]\n",
    "        z2 = inputs['z'][1]\n",
    "        y1 = inputs['y1']\n",
    "\n",
    "        # Note: this may cause some issues. However, y1 is constrained to be\n",
    "        # above 3.16, so lets just let it converge, and the optimizer will\n",
    "        # throw it out\n",
    "        if y1.real < 0.0:\n",
    "            y1 *= -1\n",
    "\n",
    "        outputs['y2'] = y1**.5 + z1 + z2"
   ]
  },
  {
   "cell_type": "markdown",
   "metadata": {},
   "source": [
    "### Grouping and Connecting Components\n",
    "We want to build the model represented by the XDSM diagram above. We’ve defined the two disciplinary components, but there are still the three outputs of the model that need to be computed. Additionally, since we have the computations split up into multiple components, we need to group them all together and tell OpenMDAO how to pass data between them."
   ]
  },
  {
   "cell_type": "code",
   "execution_count": 25,
   "metadata": {},
   "outputs": [],
   "source": [
    "class SellarMDA(Group):\n",
    "    \n",
    "\n",
    "    def setup(self):\n",
    "        indeps = self.add_subsystem('indeps', IndepVarComp(), promotes=['*'])\n",
    "        indeps.add_output('x', 1.0)\n",
    "        indeps.add_output('z', np.array([5.0, 2.0]))\n",
    "\n",
    "        cycle = self.add_subsystem('cycle', Group(), promotes=['*'])\n",
    "        d1 = cycle.add_subsystem('d1', SellarDis1(), promotes_inputs=['x', 'z', 'y2'], promotes_outputs=['y1'])\n",
    "        d2 = cycle.add_subsystem('d2', SellarDis2(), promotes_inputs=['z', 'y1'], promotes_outputs=['y2'])\n",
    "\n",
    "        # Nonlinear Block Gauss Seidel is a gradient free solver\n",
    "        cycle.nonlinear_solver = NonlinearBlockGS()\n",
    "\n",
    "        self.add_subsystem('obj_cmp', ExecComp('obj = x**2 + z[1] + y1 + exp(-y2)',\n",
    "                           z=np.array([0.0, 0.0]), x=0.0),\n",
    "                           promotes=['x', 'z', 'y1', 'y2', 'obj'])\n",
    "\n",
    "        self.add_subsystem('con_cmp1', ExecComp('con1 = 3.16 - y1'), promotes=['con1', 'y1'])\n",
    "        self.add_subsystem('con_cmp2', ExecComp('con2 = y2 - 24.0'), promotes=['con2', 'y2'])"
   ]
  },
  {
   "cell_type": "code",
   "execution_count": 53,
   "metadata": {},
   "outputs": [
    {
     "name": "stdout",
     "output_type": "stream",
     "text": [
      "\n",
      "=====\n",
      "cycle\n",
      "=====\n",
      "NL: NLBGS Converged in 9 iterations\n",
      "x= 2.0\n",
      "z= [-1. -1.]\n",
      "y1= 2.109516505912702\n",
      "y2= -0.5475825304298003\n",
      "obj= 6.838584497976375\n",
      "con1= 1.050483494087298\n",
      "con2= -24.5475825304298\n"
     ]
    }
   ],
   "source": [
    "prob = Problem()\n",
    "\n",
    "prob.model = SellarMDA()\n",
    "\n",
    "prob.setup()\n",
    "prob['indeps.x'] = 2.\n",
    "prob['indeps.z'] = [-1., -1.]\n",
    "\n",
    "prob.run_model()\n",
    "print('x=', prob['indeps.x'][0])\n",
    "print('z=', prob['indeps.z'])\n",
    "print('y1=', prob['y1'][0])\n",
    "print('y2=', prob['y2'][0])\n",
    "print('obj=', prob['obj'][0])\n",
    "print('con1=', prob['con1'][0])\n",
    "print('con2=', prob['con2'][0])"
   ]
  },
  {
   "cell_type": "markdown",
   "metadata": {},
   "source": [
    "We’re working with a new type of class: Group. This is the container that lets you build up complex model hierarchies. Groups can contain other groups, components, or combinations of groups and components.\n",
    "\n",
    "You can directly create instances of Group to work with, or you can sub-class from it to define your own custom groups. We’re doing both things here. First, we define our own custom Group sub-class called SellarMDA. In our run-script well create an instance of SellarMDA to actually run it. Then inside the setup method of SellarMDA we’re also working directly with a group instance by doing this:\n",
    "\n",
    "```python\n",
    "cycle = self.add_subsystem('cycle', Group(), promotes=['*'])\n",
    "d1 = cycle.add_subsystem('d1', SellarDis1(), promotes_inputs=['x', 'z', 'y2'], promotes_outputs=['y1'])\n",
    "d2 = cycle.add_subsystem('d2', SellarDis2(), promotes_inputs=['z', 'y1'], promotes_outputs=['y2'])\n",
    "\n",
    "# Nonlinear Block Gauss Seidel is a gradient-free solver\n",
    "cycle.nonlinear_solver = NonlinearBlockGS()\n",
    "```\n",
    "\n",
    "Our SellarMDA Group, when instantiated, will have a three level hierarchy with itself as the top most level.\n",
    "\n",
    "<img src=\"http://openmdao.org/twodocs/versions/2.0.0/_images/sellar_tree.png\" width=\"600\">"
   ]
  },
  {
   "cell_type": "markdown",
   "metadata": {},
   "source": [
    "### Why do we create the cycle sub-group?\n",
    "There is a circular data dependence between d1 and d2 that needs to be converged with a nonlinear solver in order to get a valid answer. Its a bit more efficient to put these two components into their own sub-group, so that we can iteratively converge them by themselves, before moving on to the rest of the calculations in the model. Models with cycles in them are often referred to as Multidisciplinary Analyses or MDA for short. You can pick which kind of solver you would like to use to converge the MDA. The most common choices are:\n",
    "\n",
    "* `NonlinearBlockGaussSeidel`\n",
    "* `NewtonSolver`\n",
    "\n",
    "The `NonlinearBlockGaussSeidel` solver, also sometimes called a “fixed-point iteration solver”, is a gradient-free method that works well in many situations. More tightly coupled problems, or problems with instances of `ImplicitComponent` that don’t implement their own `solve_nonlinear` method, will require the `NewtonSolver`.\n",
    "\n",
    "The sub-group, named cycle, is useful here, because it contains the multidisciplinary coupling of the Sellar problem. This allows us to assign the non-linear solver to cycle to just converge those two components, before moving on to the final calculations for the obj_cmp, con_cmp1, and con_cmp2 to compute the actual outputs of the problem.\n",
    "\n",
    "### Promoting variables with the same name connects them\n",
    "The data connections in this model are made via promotion. OpenMDAO will look at each level of the hierarchy and find all the connect all output-input pairs with the same name.\n",
    "\n",
    "### ExecComp is a helper component for quickly defining components for simple equations\n",
    "A lot of times in your models, you need to define a new variable as a simple function of other variables. OpenMDAO provides a helper component to make this easier, called ExecComp. Its fairly flexible, allowing you to work with scalars or arrays, work with units, and call basic math funcsion (e.g. sin or exp)."
   ]
  },
  {
   "cell_type": "markdown",
   "metadata": {},
   "source": [
    "## Linking Variables with Promotion vs Connection\n",
    "In the previous tutorial we built up a model of the Sellar problem using two disciplinary components and a few ExecComps. In order to get OpenMDAO to pass the data between all the components, we linked everything up using promoted variables so that data passed from outputs to inputs with the same promoted name.\n",
    "Promoting variables is often a convenient way to establish the data passing links from outputs to inputs. However, you can also use calls to the connect method in order to link outputs to inputs without having to promote anything. Here is how you would define the same Sellar model using:\n",
    "1. Variable promotion\n",
    "2. Connect statements\n",
    "3. Both variable promotion and connect statements\n",
    "\n",
    "All three will give the exact same answer, but the way you address the variables will be slightly different in each one."
   ]
  },
  {
   "cell_type": "code",
   "execution_count": 30,
   "metadata": {},
   "outputs": [],
   "source": [
    "class SellarMDAConnect(Group):\n",
    "    \n",
    "\n",
    "    def setup(self):\n",
    "        indeps = self.add_subsystem('indeps', IndepVarComp())\n",
    "        indeps.add_output('x', 1.0)\n",
    "        indeps.add_output('z', np.array([5.0, 2.0]))\n",
    "\n",
    "        cycle = self.add_subsystem('cycle', Group())\n",
    "        d1 = cycle.add_subsystem('d1', SellarDis1())\n",
    "        d2 = cycle.add_subsystem('d2', SellarDis2())\n",
    "        cycle.connect('d1.y1', 'd2.y1')\n",
    "        cycle.connect('d2.y2', 'd1.y2')\n",
    "\n",
    "        # Nonlinear Block Gauss Seidel is a gradient free solver\n",
    "        cycle.nonlinear_solver = NonlinearBlockGS()\n",
    "\n",
    "        self.add_subsystem('obj_cmp', ExecComp('obj = x**2 + z[1] + y1 + exp(-y2)',\n",
    "                                               z=np.array([0.0, 0.0]), x=0.0))\n",
    "\n",
    "        self.add_subsystem('con_cmp1', ExecComp('con1 = 3.16 - y1'))\n",
    "        self.add_subsystem('con_cmp2', ExecComp('con2 = y2 - 24.0'))\n",
    "\n",
    "        self.connect('indeps.x', ['cycle.d1.x', 'obj_cmp.x'])\n",
    "        self.connect('indeps.z', ['cycle.d1.z', 'cycle.d2.z', 'obj_cmp.z'])\n",
    "        self.connect('cycle.d1.y1', ['obj_cmp.y1', 'con_cmp1.y1'])\n",
    "        self.connect('cycle.d2.y2', ['obj_cmp.y2', 'con_cmp2.y2'])"
   ]
  },
  {
   "cell_type": "markdown",
   "metadata": {},
   "source": [
    "The exact same model results can be achieved using connect statements instead of promotions. However, take careful note of how the variables are addressed in those connect and print statements."
   ]
  },
  {
   "cell_type": "code",
   "execution_count": 54,
   "metadata": {},
   "outputs": [
    {
     "name": "stdout",
     "output_type": "stream",
     "text": [
      "\n",
      "=====\n",
      "cycle\n",
      "=====\n",
      "NL: NLBGS Converged in 9 iterations\n",
      "x= 2.0\n",
      "z= [-1. -1.]\n",
      "y1= 2.109516505912702\n",
      "y2= -0.5475825304298003\n",
      "obj= 6.838584497976375\n",
      "con1= 1.050483494087298\n",
      "con2= -24.5475825304298\n"
     ]
    }
   ],
   "source": [
    "prob = Problem()\n",
    "\n",
    "prob.model = SellarMDAConnect()\n",
    "\n",
    "prob.setup()\n",
    "prob['indeps.x'] = 2.\n",
    "prob['indeps.z'] = [-1., -1.]\n",
    "\n",
    "prob.run_model()\n",
    "print('x=', prob['indeps.x'][0])\n",
    "print('z=', prob['indeps.z'])\n",
    "print('y1=', prob['cycle.d1.y1'][0])\n",
    "print('y2=', prob['cycle.d2.y2'][0])\n",
    "print('obj=', prob['obj_cmp.obj'][0])\n",
    "print('con1=', prob['con_cmp1.con1'][0])\n",
    "print('con2=', prob['con_cmp2.con2'][0])"
   ]
  },
  {
   "cell_type": "markdown",
   "metadata": {},
   "source": [
    "# Optimizing the Sellar Problem\n",
    "\n",
    "In the previous section of this tutorial we showed you how to define the Sellar model and run it directly. Now let's see how we can optimize the Sellar problem to minimize the objective function. Here is the mathematical problem formulation for the Sellar optimiziation problem:\n",
    "\n",
    "\\begin{align}\n",
    "\\text{min}: & \\ \\ \\ & x_1^2 + z_2 + y_1 + e^{-y_2} \\\\\n",
    "\\text{w.r.t.}: & \\ \\ \\ &  x_1, z_1, z_2 \\\\\n",
    "\\text{subject to}: & \\ \\ \\ & \\\\\n",
    "& \\ \\ \\ & 3.16 - y_1 <=0 \\\\\n",
    "& \\ \\ \\ & y_2 - 24.0 <=0\n",
    "\\end{align}"
   ]
  },
  {
   "cell_type": "code",
   "execution_count": 55,
   "metadata": {},
   "outputs": [
    {
     "name": "stdout",
     "output_type": "stream",
     "text": [
      "Optimization terminated successfully.    (Exit mode 0)\n",
      "            Current function value: 3.1833939517831795\n",
      "            Iterations: 6\n",
      "            Function evaluations: 6\n",
      "            Gradient evaluations: 6\n",
      "Optimization Complete\n",
      "-----------------------------------\n",
      "minimum found at:\n",
      "x= 1.7492161945256356e-14\n",
      "z= [1.97763888 0.        ]\n",
      "y1= 3.16000000014471\n",
      "y2= 3.7552777670179114\n",
      "obj= 3.1833939517831795\n",
      "con1= -1.447100217433217e-10\n",
      "con2= -20.244722232982088\n"
     ]
    }
   ],
   "source": [
    "prob = Problem()\n",
    "prob.model = SellarMDA()\n",
    "\n",
    "\n",
    "prob.driver = ScipyOptimizeDriver()\n",
    "prob.driver.options['optimizer'] = 'SLSQP'\n",
    "# prob.driver.options['maxiter'] = 100\n",
    "prob.driver.options['tol'] = 1e-8\n",
    "\n",
    "prob.model.add_design_var('x', lower=0, upper=10)\n",
    "prob.model.add_design_var('z', lower=0, upper=10)\n",
    "prob.model.add_objective('obj')\n",
    "prob.model.add_constraint('con1', upper=0)\n",
    "prob.model.add_constraint('con2', upper=0)\n",
    "\n",
    "\n",
    "prob.setup()\n",
    "prob.set_solver_print(level=0)\n",
    "\n",
    "# Ask OpenMDAO to finite-difference across the model to compute the gradients for the optimizer\n",
    "prob.model.approx_totals()\n",
    "\n",
    "\n",
    "prob.run_driver()\n",
    "\n",
    "print('minimum found at:')\n",
    "print('x=', prob['indeps.x'][0])\n",
    "print('z=', prob['indeps.z'])\n",
    "print('y1=', prob['y1'][0])\n",
    "print('y2=', prob['y2'][0])\n",
    "print('obj=', prob['obj'][0])\n",
    "print('con1=', prob['con1'][0])\n",
    "print('con2=', prob['con2'][0])"
   ]
  },
  {
   "cell_type": "markdown",
   "metadata": {},
   "source": [
    "### Approximate the total derivatives with finite difference\n",
    "In this case we’re using the SLSQP algorithm, which is a gradient based optimization approach. Up to this point none of our components have provided any analytic derivatives, so we’ll just finite-difference across the whole model to approximate the derivatives. That is accompished by this line of code:\n",
    "```\n",
    " prob.model.approx_total_derivs()\n",
    " ```\n"
   ]
  },
  {
   "cell_type": "code",
   "execution_count": null,
   "metadata": {},
   "outputs": [],
   "source": []
  }
 ],
 "metadata": {
  "kernelspec": {
   "display_name": "Python 3",
   "language": "python",
   "name": "python3"
  },
  "language_info": {
   "codemirror_mode": {
    "name": "ipython",
    "version": 3
   },
   "file_extension": ".py",
   "mimetype": "text/x-python",
   "name": "python",
   "nbconvert_exporter": "python",
   "pygments_lexer": "ipython3",
   "version": "3.6.4"
  }
 },
 "nbformat": 4,
 "nbformat_minor": 2
}
