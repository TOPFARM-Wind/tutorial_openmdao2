{
 "cells": [
  {
   "cell_type": "code",
   "execution_count": 7,
   "metadata": {},
   "outputs": [
    {
     "name": "stdout",
     "output_type": "stream",
     "text": [
      "OpenMDAO version: 2.2.0\n"
     ]
    }
   ],
   "source": [
    "import openmdao\n",
    "print('OpenMDAO version:', openmdao.__version__)\n",
    "assert int(openmdao.__version__[0]) == 2, \"OpenMDAO version should be 2!\""
   ]
  },
  {
   "cell_type": "code",
   "execution_count": 139,
   "metadata": {},
   "outputs": [
    {
     "name": "stdout",
     "output_type": "stream",
     "text": [
      "Optimization terminated successfully.    (Exit mode 0)\n",
      "            Current function value: -27.333333333333336\n",
      "            Iterations: 5\n",
      "            Function evaluations: 6\n",
      "            Gradient evaluations: 5\n",
      "Optimization Complete\n",
      "-----------------------------------\n"
     ]
    },
    {
     "data": {
      "text/plain": [
       "False"
      ]
     },
     "execution_count": 139,
     "metadata": {},
     "output_type": "execute_result"
    }
   ],
   "source": [
    "from openmdao.api import Problem, ScipyOptimizeDriver, ExecComp, IndepVarComp\n",
    "\n",
    "# build the model\n",
    "prob = Problem()\n",
    "indeps = prob.model.add_subsystem('indeps', IndepVarComp())\n",
    "indeps.add_output('x', 3.0)\n",
    "indeps.add_output('y', -4.0)\n",
    "\n",
    "prob.model.add_subsystem('paraboloid', ExecComp('f = (x-3)**2 + x*y + (y+4)**2 - 3'))\n",
    "\n",
    "prob.model.connect('indeps.x', 'paraboloid.x')\n",
    "prob.model.connect('indeps.y', 'paraboloid.y')\n",
    "\n",
    "# setup the optimization\n",
    "prob.driver = ScipyOptimizeDriver()\n",
    "prob.driver.options['optimizer'] = 'SLSQP'\n",
    "\n",
    "prob.model.add_design_var('indeps.x', lower=-50, upper=50)\n",
    "prob.model.add_design_var('indeps.y', lower=-50, upper=50)\n",
    "prob.model.add_objective('paraboloid.f')\n",
    "prob.driver.add_recorder\n",
    "\n",
    "prob.setup()\n",
    "prob.run_driver()"
   ]
  },
  {
   "cell_type": "markdown",
   "metadata": {},
   "source": [
    "##### Paraboloid function"
   ]
  },
  {
   "cell_type": "markdown",
   "metadata": {},
   "source": [
    "$f(x,y) = (x-3)^2 + x y + (y+4)^2 - 3$"
   ]
  },
  {
   "cell_type": "code",
   "execution_count": 15,
   "metadata": {},
   "outputs": [],
   "source": [
    "f = lambda x, y: (x-3)**2 + x*y + (y+4)**2 - 3"
   ]
  },
  {
   "cell_type": "code",
   "execution_count": 89,
   "metadata": {},
   "outputs": [
    {
     "data": {
      "image/png": "[encoded data removed]",
      "text/plain": [
       "<matplotlib.figure.Figure at 0x10958dc18>"
      ]
     },
     "metadata": {},
     "output_type": "display_data"
    }
   ],
   "source": [
    "import matplotlib\n",
    "import numpy as np\n",
    "import matplotlib.cm as cm\n",
    "import matplotlib.mlab as mlab\n",
    "import matplotlib.pyplot as plt\n",
    "%matplotlib inline\n",
    "\n",
    "delta = 0.025\n",
    "x = np.arange(-10.0, 10.0, delta)\n",
    "y = np.arange(-10.0, 10.0, delta)\n",
    "X, Y = np.meshgrid(x, y)\n",
    "Z = f(X,Y)\n",
    "fig = plt.figure()\n",
    "ax = fig.add_subplot(1,1,1)\n",
    "CS = ax.contourf(X, Y, Z)\n",
    "fig.colorbar(CS);"
   ]
  },
  {
   "cell_type": "markdown",
   "metadata": {},
   "source": [
    "##### minimum value"
   ]
  },
  {
   "cell_type": "code",
   "execution_count": 86,
   "metadata": {},
   "outputs": [
    {
     "name": "stdout",
     "output_type": "stream",
     "text": [
      "[-27.33333333]\n"
     ]
    }
   ],
   "source": [
    "print(prob['paraboloid.f'])"
   ]
  },
  {
   "cell_type": "markdown",
   "metadata": {},
   "source": [
    "##### location of the minimum"
   ]
  },
  {
   "cell_type": "code",
   "execution_count": 87,
   "metadata": {},
   "outputs": [
    {
     "name": "stdout",
     "output_type": "stream",
     "text": [
      "Minimum X: 6.666666666666667\n",
      "Minimum Y: -7.333333333333333\n"
     ]
    }
   ],
   "source": [
    "min_x = prob['indeps.x'][0]\n",
    "print('Minimum X:', min_x)\n",
    "\n",
    "min_y = prob['indeps.y'][0]\n",
    "print('Minimum Y:', min_y)"
   ]
  },
  {
   "cell_type": "code",
   "execution_count": 88,
   "metadata": {},
   "outputs": [
    {
     "data": {
      "image/png": "[encoded data removed]",
      "text/plain": [
       "<matplotlib.figure.Figure at 0x181b013940>"
      ]
     },
     "execution_count": 88,
     "metadata": {},
     "output_type": "execute_result"
    }
   ],
   "source": [
    "ax.plot(min_x, min_y, 'xw')\n",
    "ax.text(min_x, min_y, \"  {0:.2f}\".format(prob['paraboloid.f'][0]), color='w')\n",
    "fig"
   ]
  },
  {
   "cell_type": "markdown",
   "metadata": {},
   "source": [
    "## OpenMDAO Elements "
   ]
  },
  {
   "cell_type": "markdown",
   "metadata": {},
   "source": [
    "### Components"
   ]
  },
  {
   "cell_type": "markdown",
   "metadata": {},
   "source": [
    "\n",
    "\n",
    "#### The Three Types of Components\n",
    "\n",
    "\n",
    "In our numerical model, we have three variables: $x$, $y$, and $z$.\n",
    "Each of these variables needs to be defined as the output of a component.\n",
    "There are three basic types of components in OpenMDAO:\n",
    "\n",
    "\n",
    "1. `IndepVarComp` : defines independent variables (e.g., x)\n",
    "2. `ExplicitComponent`: defines dependent variables that are computed explicitly (e.g., z)\n",
    "3. `ImplicitComponent` : defines dependent variables that are computed implicitly (e.g., y)\n",
    "\n",
    "\n",
    "The most straightforward way to implement the numerical model would be to assign each variable its own component, as below.\n",
    "\n",
    "```\n",
    "  ===  =================  =======  =======\n",
    "  No.  Component type     Inputs   Outputs\n",
    "  ===  =================  =======  =======\n",
    "   1   IndepVarComp                   x\n",
    "   2   ImplicitComponent    x, z      y\n",
    "   3   ExplicitComponent     y        z\n",
    "  ===  =================  =======  =======\n",
    "```\n",
    "\n"
   ]
  },
  {
   "cell_type": "code",
   "execution_count": 106,
   "metadata": {},
   "outputs": [],
   "source": [
    "from openmdao.api import ExplicitComponent\n",
    "\n",
    "class Paraboloid(ExplicitComponent):\n",
    "    \n",
    "\n",
    "    def setup(self):\n",
    "        self.add_input('x', val=0.0)\n",
    "        self.add_input('y', val=0.0)\n",
    "\n",
    "        self.add_output('f', val=0.0)\n",
    "\n",
    "        # Finite difference all partials.\n",
    "        self.declare_partials('*', '*', method='fd')\n",
    "\n",
    "    def compute(self, inputs, outputs):\n",
    "        \n",
    "        x = inputs['x']\n",
    "        y = inputs['y']\n",
    "\n",
    "        outputs['f'] = (x-3)**2 + x*y + (y+4)**2 - 3"
   ]
  },
  {
   "cell_type": "markdown",
   "metadata": {},
   "source": [
    "### Problem"
   ]
  },
  {
   "cell_type": "markdown",
   "metadata": {},
   "source": [
    "<img src=\"http://openmdao.org/twodocs/versions/2.0.0/_images/problem_diagram.png\" width=\"600\">"
   ]
  },
  {
   "cell_type": "code",
   "execution_count": 135,
   "metadata": {},
   "outputs": [
    {
     "name": "stdout",
     "output_type": "stream",
     "text": [
      "Optimization terminated successfully.    (Exit mode 0)\n",
      "            Current function value: -27.333333333333\n",
      "            Iterations: 5\n",
      "            Function evaluations: 6\n",
      "            Gradient evaluations: 5\n",
      "Optimization Complete\n",
      "-----------------------------------\n",
      "[-27.33333333]\n",
      "[6.66666633]\n",
      "[-7.33333367]\n"
     ]
    }
   ],
   "source": [
    "\n",
    "# build the model\n",
    "prob = Problem()\n",
    "indeps = prob.model.add_subsystem('indeps', IndepVarComp())\n",
    "indeps.add_output('x', 3.0)\n",
    "indeps.add_output('y', -4.0)\n",
    "\n",
    "#prob.model.add_subsystem('paraboloid', ExecComp('f = (x-3)**2 + x*y + (y+4)**2 - 3'))\n",
    "prob.model.add_subsystem('paraboloid', Paraboloid())\n",
    "\n",
    "prob.model.connect('indeps.x', 'paraboloid.x')\n",
    "prob.model.connect('indeps.y', 'paraboloid.y')\n",
    "\n",
    "# setup the optimization\n",
    "prob.driver = ScipyOptimizeDriver()\n",
    "prob.driver.options['optimizer'] = 'SLSQP'\n",
    "\n",
    "prob.model.add_design_var('indeps.x', lower=-50, upper=50)\n",
    "prob.model.add_design_var('indeps.y', lower=-50, upper=50)\n",
    "prob.model.add_objective('paraboloid.f')\n",
    "\n",
    "prob.setup()\n",
    "prob.run_driver()\n",
    "\n",
    "\n",
    "# minimum value\n",
    "print(prob['paraboloid.f'])\n",
    "# location of the minimum\n",
    "print(prob['paraboloid.x'])\n",
    "print(prob['paraboloid.y'])"
   ]
  },
  {
   "cell_type": "markdown",
   "metadata": {},
   "source": [
    "#### Let's add a constraint to this optimization"
   ]
  },
  {
   "cell_type": "markdown",
   "metadata": {},
   "source": [
    "$g = x + y \\in [0,10]$"
   ]
  },
  {
   "cell_type": "code",
   "execution_count": 137,
   "metadata": {},
   "outputs": [
    {
     "ename": "RuntimeError",
     "evalue": "Subsystem name 'const' is already used.",
     "output_type": "error",
     "traceback": [
      "\u001b[0;31m---------------------------------------------------------------------------\u001b[0m",
      "\u001b[0;31mRuntimeError\u001b[0m                              Traceback (most recent call last)",
      "\u001b[0;32m<ipython-input-137-98fa61d71b7a>\u001b[0m in \u001b[0;36m<module>\u001b[0;34m()\u001b[0m\n\u001b[1;32m      1\u001b[0m \u001b[0;31m# define the component whos output will be constrained\u001b[0m\u001b[0;34m\u001b[0m\u001b[0;34m\u001b[0m\u001b[0m\n\u001b[0;32m----> 2\u001b[0;31m \u001b[0mprob\u001b[0m\u001b[0;34m.\u001b[0m\u001b[0mmodel\u001b[0m\u001b[0;34m.\u001b[0m\u001b[0madd_subsystem\u001b[0m\u001b[0;34m(\u001b[0m\u001b[0;34m'const'\u001b[0m\u001b[0;34m,\u001b[0m \u001b[0mExecComp\u001b[0m\u001b[0;34m(\u001b[0m\u001b[0;34m'g = x + y'\u001b[0m\u001b[0;34m)\u001b[0m\u001b[0;34m)\u001b[0m\u001b[0;34m\u001b[0m\u001b[0m\n\u001b[0m\u001b[1;32m      3\u001b[0m \u001b[0;34m\u001b[0m\u001b[0m\n\u001b[1;32m      4\u001b[0m \u001b[0mprob\u001b[0m\u001b[0;34m.\u001b[0m\u001b[0mmodel\u001b[0m\u001b[0;34m.\u001b[0m\u001b[0mconnect\u001b[0m\u001b[0;34m(\u001b[0m\u001b[0;34m'indeps.x'\u001b[0m\u001b[0;34m,\u001b[0m \u001b[0;34m[\u001b[0m\u001b[0;34m'const.x'\u001b[0m\u001b[0;34m]\u001b[0m\u001b[0;34m)\u001b[0m\u001b[0;34m\u001b[0m\u001b[0m\n\u001b[1;32m      5\u001b[0m \u001b[0mprob\u001b[0m\u001b[0;34m.\u001b[0m\u001b[0mmodel\u001b[0m\u001b[0;34m.\u001b[0m\u001b[0mconnect\u001b[0m\u001b[0;34m(\u001b[0m\u001b[0;34m'indeps.y'\u001b[0m\u001b[0;34m,\u001b[0m \u001b[0;34m[\u001b[0m\u001b[0;34m'const.y'\u001b[0m\u001b[0;34m]\u001b[0m\u001b[0;34m)\u001b[0m\u001b[0;34m\u001b[0m\u001b[0m\n",
      "\u001b[0;32m~/anaconda3/lib/python3.6/site-packages/openmdao/core/group.py\u001b[0m in \u001b[0;36madd_subsystem\u001b[0;34m(self, name, subsys, promotes, promotes_inputs, promotes_outputs, min_procs, max_procs, proc_weight)\u001b[0m\n\u001b[1;32m   1205\u001b[0m             \u001b[0;32mif\u001b[0m \u001b[0mname\u001b[0m \u001b[0;34m==\u001b[0m \u001b[0msub\u001b[0m\u001b[0;34m.\u001b[0m\u001b[0mname\u001b[0m\u001b[0;34m:\u001b[0m\u001b[0;34m\u001b[0m\u001b[0m\n\u001b[1;32m   1206\u001b[0m                 raise RuntimeError(\"Subsystem name '%s' is already used.\" %\n\u001b[0;32m-> 1207\u001b[0;31m                                    name)\n\u001b[0m\u001b[1;32m   1208\u001b[0m \u001b[0;34m\u001b[0m\u001b[0m\n\u001b[1;32m   1209\u001b[0m         \u001b[0;32mif\u001b[0m \u001b[0mhasattr\u001b[0m\u001b[0;34m(\u001b[0m\u001b[0mself\u001b[0m\u001b[0;34m,\u001b[0m \u001b[0mname\u001b[0m\u001b[0;34m)\u001b[0m \u001b[0;32mand\u001b[0m \u001b[0;32mnot\u001b[0m \u001b[0misinstance\u001b[0m\u001b[0;34m(\u001b[0m\u001b[0mgetattr\u001b[0m\u001b[0;34m(\u001b[0m\u001b[0mself\u001b[0m\u001b[0;34m,\u001b[0m \u001b[0mname\u001b[0m\u001b[0;34m)\u001b[0m\u001b[0;34m,\u001b[0m \u001b[0mSystem\u001b[0m\u001b[0;34m)\u001b[0m\u001b[0;34m:\u001b[0m\u001b[0;34m\u001b[0m\u001b[0m\n",
      "\u001b[0;31mRuntimeError\u001b[0m: Subsystem name 'const' is already used."
     ]
    }
   ],
   "source": [
    "# define the component whos output will be constrained\n",
    "prob.model.add_subsystem('const', ExecComp('g = x + y'))\n",
    "\n",
    "prob.model.connect('indeps.x', ['const.x'])\n",
    "prob.model.connect('indeps.y', ['const.y'])\n",
    "\n",
    "# to add the constraint to the model\n",
    "prob.model.add_constraint('const.g', lower=0, upper=10.)\n",
    "#prob.model.add_constraint('const.g', equals=0.)"
   ]
  },
  {
   "cell_type": "code",
   "execution_count": 138,
   "metadata": {},
   "outputs": [
    {
     "name": "stdout",
     "output_type": "stream",
     "text": [
      "Optimization terminated successfully.    (Exit mode 0)\n",
      "            Current function value: -27.0\n",
      "            Iterations: 1\n",
      "            Function evaluations: 1\n",
      "            Gradient evaluations: 1\n",
      "Optimization Complete\n",
      "-----------------------------------\n",
      "[-27.]\n",
      "[7.]\n",
      "[-7.]\n"
     ]
    }
   ],
   "source": [
    "prob.setup()\n",
    "prob.run_driver()\n",
    "# minimum value\n",
    "print(prob['paraboloid.f'])\n",
    "# location of the minimum\n",
    "print(prob['indeps.x'])\n",
    "print(prob['indeps.y'])"
   ]
  },
  {
   "cell_type": "code",
   "execution_count": null,
   "metadata": {},
   "outputs": [],
   "source": []
  }
 ],
 "metadata": {
  "kernelspec": {
   "display_name": "Python 3",
   "language": "python",
   "name": "python3"
  },
  "language_info": {
   "codemirror_mode": {
    "name": "ipython",
    "version": 3
   },
   "file_extension": ".py",
   "mimetype": "text/x-python",
   "name": "python",
   "nbconvert_exporter": "python",
   "pygments_lexer": "ipython3",
   "version": "3.6.4"
  }
 },
 "nbformat": 4,
 "nbformat_minor": 2
}
